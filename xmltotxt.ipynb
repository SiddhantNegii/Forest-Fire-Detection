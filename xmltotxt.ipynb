{
 "cells": [
  {
   "cell_type": "code",
   "execution_count": 1,
   "id": "a235dd13-1965-4ecc-9f95-18a727eb16ed",
   "metadata": {},
   "outputs": [],
   "source": [
    "import os\n",
    "import xml.etree.ElementTree as ET\n",
    "\n",
    "def convert_to_yolo_format(xml_file):\n",
    "    tree = ET.parse(xml_file)\n",
    "    root = tree.getroot()\n",
    "    width = int(root.find('size/width').text)\n",
    "    height = int(root.find('size/height').text)\n",
    "    objects = root.findall('object')\n",
    "    yolo_data = []\n",
    "\n",
    "    for obj in objects:\n",
    "        name = obj.find('name').text\n",
    "        xmin = float(obj.find('bndbox/xmin').text)\n",
    "        ymin = float(obj.find('bndbox/ymin').text)\n",
    "        xmax = float(obj.find('bndbox/xmax').text)\n",
    "        ymax = float(obj.find('bndbox/ymax').text)\n",
    "        \n",
    "        x_center = ((xmin + xmax) / 2) / width\n",
    "        y_center = ((ymin + ymax) / 2) / height\n",
    "        bbox_width = (xmax - xmin) / width\n",
    "        bbox_height = (ymax - ymin) / height\n",
    "        \n",
    "        class_id = 0 if name == 'fire' else -1  \n",
    "\n",
    "        yolo_format = f\"{class_id} {x_center} {y_center} {bbox_width} {bbox_height}\"\n",
    "        yolo_data.append(yolo_format)\n",
    "    \n",
    "    return yolo_data\n",
    "\n",
    "def convert_all_xmls_to_yolo(directory):\n",
    "    for filename in os.listdir(directory):\n",
    "        if filename.endswith('.xml'):\n",
    "            xml_file = os.path.join(directory, filename)\n",
    "            yolo_data = convert_to_yolo_format(xml_file)\n",
    "            txt_filename = os.path.splitext(filename)[0] + '.txt'\n",
    "            txt_filepath = os.path.join(directory, txt_filename)\n",
    "\n",
    "            with open(txt_filepath, 'w') as txt_file:\n",
    "                txt_file.write(\"\\n\".join(yolo_data))\n",
    "xml_directory = r'D:\\Project & Research Paper\\Fire detection\\Dataset for fire detection\\Annotations'\n",
    "convert_all_xmls_to_yolo(xml_directory)\n"
   ]
  },
  {
   "cell_type": "code",
   "execution_count": null,
   "id": "7d1f4222-937e-46fa-9ef9-6c81f15270b1",
   "metadata": {},
   "outputs": [],
   "source": []
  }
 ],
 "metadata": {
  "kernelspec": {
   "display_name": "Python 3 (ipykernel)",
   "language": "python",
   "name": "python3"
  },
  "language_info": {
   "codemirror_mode": {
    "name": "ipython",
    "version": 3
   },
   "file_extension": ".py",
   "mimetype": "text/x-python",
   "name": "python",
   "nbconvert_exporter": "python",
   "pygments_lexer": "ipython3",
   "version": "3.11.7"
  }
 },
 "nbformat": 4,
 "nbformat_minor": 5
}
